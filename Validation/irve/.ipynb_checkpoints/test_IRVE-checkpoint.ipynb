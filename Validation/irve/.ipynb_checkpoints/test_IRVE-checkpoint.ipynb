{
 "cells": [
  {
   "cell_type": "code",
   "execution_count": 1,
   "metadata": {},
   "outputs": [
    {
     "name": "stdout",
     "output_type": "stream",
     "text": [
      "file size :  7467244\n"
     ]
    }
   ],
   "source": [
    "'''\n",
    "Objet : Test opendata des données IRVE\n",
    "Points identifiés :\n",
    "    - capacité de l'objet Ilist à traiter des volumes de données importants (1 million de données indexées)\n",
    "    - temps de réponse linéaires / nombre de lignes (proportionnels sur les opérations de création)\n",
    "    - temps de réponses d'un facteur 10 entre données simple et données ESValue\n",
    "    - complémentation des données et génération Xarray opérationnel\n",
    "\n",
    "api : https://static.data.gouv.fr/resources/fichier-consolide-des-bornes-de-recharge-pour-vehicules-electriques/20220629-080611/consolidation-etalab-schema-irve-v-2.0.2-20220628.csv\n",
    "'''\n",
    "from collections import Counter\n",
    "from time import time\n",
    "import csv\n",
    "import os\n",
    "os.chdir('C:/Users/a179227/OneDrive - Alliance/perso Wx/ES standard/python ESstandard/ES')\n",
    "from iindex import Iindex, util\n",
    "from iindexset import Iindexset\n",
    "\n",
    "chemin = 'C:/Users/a179227/OneDrive - Alliance/perso Wx/ES standard/python ESstandard/validation/irve/'\n",
    "\n",
    "file = chemin + 'consolidation-etalab-schema-irve-v-2.0.2-20220606-propre.csv'\n",
    "\n",
    "print('file size : ', os.stat(file).st_size)"
   ]
  },
  {
   "cell_type": "code",
   "execution_count": 2,
   "metadata": {},
   "outputs": [
    {
     "name": "stdout",
     "output_type": "stream",
     "text": [
      "data 1.0431461334228516\n"
     ]
    }
   ],
   "source": [
    "t0 = time()\n",
    "with open(file, newline='', encoding='utf-8') as f:\n",
    "    reader = csv.reader(f, delimiter=';')\n",
    "    names = next(reader)\n",
    "    data = []\n",
    "    for row in reader: data.append(row)\n",
    "data2 = util.list(list(zip(*data)))\n",
    "print('data', time()-t0)"
   ]
  },
  {
   "cell_type": "code",
   "execution_count": 3,
   "metadata": {},
   "outputs": [
    {
     "name": "stdout",
     "output_type": "stream",
     "text": [
      "idxs (len, lenlidx, sumcodec) :  11163 49 64775 7.785003900527954\n",
      "fullsize 9615178 29.250075817108154\n",
      "minsize 1388222 4.15327000617981\n"
     ]
    }
   ],
   "source": [
    "t0=time()\n",
    "idxs = Iindexset.Iext(data2, names, fast=True)\n",
    "print('idxs (len, lenlidx, sumcodec) : ', len(idxs), len(idxs.idxlen), sum(idxs.idxlen), time()-t0)\n",
    "t0=time()\n",
    "fullsize = len(idxs.to_obj(encoded=True, fullcodec=True))\n",
    "print('fullsize', fullsize, time()-t0)\n",
    "t0=time()\n",
    "minsize = len(idxs.to_obj(encoded=True, defaultcodec=True, fullcodec=True))\n",
    "print('minsize', minsize, time()-t0)"
   ]
  },
  {
   "cell_type": "code",
   "execution_count": 4,
   "metadata": {},
   "outputs": [
    {
     "name": "stdout",
     "output_type": "stream",
     "text": [
      "defaultsize 3700384 4.343551397323608\n",
      "indicator default :  {'unicity level': 0.11614082235958076, 'object lightness': 0.3040160582775324, 'gain': 0.6151517943817577}\n",
      "coupling 73.7478539943695\n",
      "optimizesize  2495367 13.075262308120728\n",
      "indicator optimize :  {'unicity level': 0.12067902893487414, 'object lightness': 0.1578999253744256, 'gain': 0.740476255353775}\n",
      "cborsize 1713945 13.688610553741455\n",
      "indicator cbor :  {'unicity level': 0.12067902893487414, 'object lightness': 0.06547675227136632, 'gain': 0.8217458896756773}\n"
     ]
    }
   ],
   "source": [
    "t0=time()\n",
    "defaultsize = len(idxs.to_obj(encoded=True, defaultcodec=True))\n",
    "print('defaultsize', defaultsize, time()-t0)\n",
    "print('indicator default : ', idxs.indicator(fullsize, defaultsize))\n",
    "t0=time()\n",
    "infos = idxs.coupling(fast=True)\n",
    "print('coupling', time()-t0)\n",
    "t0=time()\n",
    "optimizesize = len(idxs.to_obj(indexinfos=infos, encoded=True))\n",
    "print('optimizesize ', optimizesize, time()-t0)\n",
    "print('indicator optimize : ', idxs.indicator(fullsize, optimizesize))\n",
    "t0=time()\n",
    "js = idxs.to_obj(indexinfos=infos, encoded=True, encode_format='cbor')\n",
    "cborsize = len(js)\n",
    "print('cborsize', cborsize, time()-t0)\n",
    "print('indicator cbor : ', idxs.indicator(fullsize, cborsize))"
   ]
  },
  {
   "cell_type": "code",
   "execution_count": 5,
   "metadata": {
    "scrolled": false
   },
   "outputs": [
    {
     "name": "stdout",
     "output_type": "stream",
     "text": [
      "fromcbor 11163 6.525427579879761\n",
      "controle égalité : True 0.48717617988586426\n"
     ]
    }
   ],
   "source": [
    "t0=time()\n",
    "idxs2 = Iindexset.from_obj(js)\n",
    "print('fromcbor', len(idxs2), time()-t0)\n",
    "t0=time()\n",
    "verif = idxs2 == idxs\n",
    "print('controle égalité :', verif, time()-t0)\n"
   ]
  },
  {
   "cell_type": "code",
   "execution_count": 11,
   "metadata": {},
   "outputs": [
    {
     "name": "stdout",
     "output_type": "stream",
     "text": [
      "Couplage entre  coordonneesXY  et  nom_station  :  derived\n",
      "Ecart :  44 positions sur  4503\n",
      "les 5 positions avec le plus de stations:  [('[1.106329, 49.474202]', 10), ('[1.313367, 49.137233]', 6), ('[3.080477, 50.675889]', 6), ('[2.523685, 48.9908]', 5), ('[3.1557445, 50.5161745]', 4)]\n",
      "liste des stations associées à la position [1.106329, 49.474202]  :  ['SCH01', 'SCH10', 'SCH09', 'SCH07', 'SCH06', 'SCH05', 'SCH04', 'SCH03', 'SCH02', 'SCH08']\n"
     ]
    }
   ],
   "source": [
    "print('Couplage entre ', idxs[13].name, ' et ', idxs[9].name, ' : ', idxs[13].couplinginfos(idxs[9])['typecoupl'])\n",
    "infosdefault = idxs[9].couplinginfos(idxs[13], default=True)\n",
    "print('Ecart : ', infosdefault['disttomin'], 'positions sur ', infosdefault['distmin']) # moins de 1%\n",
    "nom_station = idxs[9].tostdcodec(full=False)\n",
    "coordonneesXY = idxs[13].tostdcodec(full=False) \n",
    "coordonneesXY.coupling(nom_station)\n",
    "c = Counter(coordonneesXY.codec).most_common(5)\n",
    "print('les 5 positions avec le plus de stations: ', c)\n",
    "print('liste des stations associées à la position', c[0][0], ' : ', \n",
    "      [nom_station[i] for i in coordonneesXY.recordfromvalue(c[0][0])])"
   ]
  }
 ],
 "metadata": {
  "kernelspec": {
   "display_name": "Python 3 (ipykernel)",
   "language": "python",
   "name": "python3"
  },
  "language_info": {
   "codemirror_mode": {
    "name": "ipython",
    "version": 3
   },
   "file_extension": ".py",
   "mimetype": "text/x-python",
   "name": "python",
   "nbconvert_exporter": "python",
   "pygments_lexer": "ipython3",
   "version": "3.9.12"
  }
 },
 "nbformat": 4,
 "nbformat_minor": 4
}
