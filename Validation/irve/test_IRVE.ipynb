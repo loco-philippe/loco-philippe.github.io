{
 "cells": [
  {
   "cell_type": "markdown",
   "metadata": {},
   "source": [
    "# Objet : Test opendata des données IRVE\n",
    "\n",
    "## Objectif\n",
    "\n",
    "- valider sur des cas réels l'outil de traitement des \"listes indexées\"\n",
    "- identifier les apports que pourraient avoir ce type d'outil\n",
    "\n",
    "## Résultats\n",
    "- l'outil fonctionne correctement (pas d'erreur identifiées, les temps de réponse restent néanmoins à améliorer).\n",
    "- l'analyse identifie des données anormales qui seraient à corriger (ou à expliquer) -> cf exemple dans la dernière cellule\n",
    "- le gain en taille de fichier varie de 50% (format texte non optimisé) à 80% (taille divisée par 5 !) dans un format optimisé et binaire. Ce niveau d'optimisation est tout à fait notable.\n",
    "- l'analyse permet de (re)trouver la logique de dépendance entre les colonnes\n",
    "\n",
    "## Usages possibles \n",
    "- les indicateurs utilisés permettent de qualifier la nature du fichier csv (niveau de duplication des données) ainsi que le niveau de codage des données). Ce type d'indicateur est déployable simplement.\n",
    "- l'usage de format de données moins gourmand (sans dégradation des données) peut également être intéressant à déployer\n",
    "- la qualité des données peut faire l'objet d'un indicateur qui mesure l'écart entre les données attendues et les données existantes. Il pourrait également être utilisé pour vérfier des règles fixées au préalable.\n",
    "\n",
    "## Autres points\n",
    "- capacité ok de l'objet Iindexset à traiter des structures de données importantes (50 colonnes)\n",
    "- indicateurs et fonctions de conversion pertinentes\n",
    "- temps de réponse de la fonction 'coupling' à regarder\n",
    "- tests complémentaires à effectuer sur d'autres jeux de données\n",
    "- représentation graphique de la structure des données à regarder\n",
    "- indicateur qualité à regarder\n",
    "\n",
    "données utilisées : https://static.data.gouv.fr/resources/fichier-consolide-des-bornes-de-recharge-pour-vehicules-electriques/20220629-080611/consolidation-etalab-schema-irve-v-2.0.2-20220628.csv"
   ]
  },
  {
   "cell_type": "markdown",
   "metadata": {},
   "source": [
    "------\n",
    "## Initialisation\n",
    "- lecture du fichier issu de l'api (quelques lignes incohérentes au niveau csv ont été éliminées au préalable)"
   ]
  },
  {
   "cell_type": "code",
   "execution_count": 32,
   "metadata": {},
   "outputs": [
    {
     "name": "stdout",
     "output_type": "stream",
     "text": [
      "file size :  7467244\n"
     ]
    }
   ],
   "source": [
    "from pprint import pprint\n",
    "from collections import Counter\n",
    "from time import time\n",
    "import csv\n",
    "import os\n",
    "os.chdir('C:/Users/a179227/OneDrive - Alliance/perso Wx/ES standard/python ESstandard/ES')\n",
    "from iindex import Iindex, util\n",
    "from iindexset import Iindexset\n",
    "\n",
    "chemin = 'C:/Users/a179227/OneDrive - Alliance/perso Wx/ES standard/python ESstandard/validation/irve/'\n",
    "\n",
    "file = chemin + 'consolidation-etalab-schema-irve-v-2.0.2-20220606-propre.csv'\n",
    "\n",
    "print('file size : ', os.stat(file).st_size)"
   ]
  },
  {
   "cell_type": "code",
   "execution_count": 33,
   "metadata": {},
   "outputs": [
    {
     "name": "stdout",
     "output_type": "stream",
     "text": [
      "data 0.5849692821502686\n"
     ]
    }
   ],
   "source": [
    "t0 = time()\n",
    "with open(file, newline='', encoding='utf-8') as f:\n",
    "    reader = csv.reader(f, delimiter=';')\n",
    "    names = next(reader)\n",
    "    data = []\n",
    "    for row in reader: data.append(row)\n",
    "data2 = util.list(list(zip(*data)))\n",
    "print('data', time()-t0)"
   ]
  },
  {
   "cell_type": "markdown",
   "metadata": {},
   "source": [
    "----\n",
    "## initialisation de l'objet Iindexset\n",
    "- l'initialisation pourrait être automatisée à partir du fichier csv\n",
    "- identification de 64 775 valeurs différentes sur un total de 11 163 x 49 valeurs (\"taux d'unicité\" de 12%)\n",
    "- la taille minimale serait de 1,4 Mo (données csv \"quotées\") pour un maximum de 9,6 Mo (données csv \"quotées\")"
   ]
  },
  {
   "cell_type": "code",
   "execution_count": 34,
   "metadata": {},
   "outputs": [
    {
     "name": "stdout",
     "output_type": "stream",
     "text": [
      "idxs (len, lenlidx, sumcodec) :  11163 49 64775 1.9536161422729492\n",
      "fullsize 9615178 13.746973037719727\n",
      "minsize 1388222 1.8562648296356201\n"
     ]
    }
   ],
   "source": [
    "t0=time()\n",
    "idxs = Iindexset.Iext(data2, names, fast=True)\n",
    "print('idxs (len, lenlidx, sumcodec) : ', len(idxs), len(idxs.idxlen), sum(idxs.idxlen), time()-t0)\n",
    "t0=time()\n",
    "fullsize = len(idxs.to_obj(encoded=True, fullcodec=True))\n",
    "print('fullsize', fullsize, time()-t0)\n",
    "t0=time()\n",
    "minsize = len(idxs.to_obj(encoded=True, defaultcodec=True, fullcodec=True))\n",
    "print('minsize', minsize, time()-t0)"
   ]
  },
  {
   "cell_type": "markdown",
   "metadata": {},
   "source": [
    "----\n",
    "## format non optimisé\n",
    "- le \"taux d'unicité\" reste à 12% (pas de modification des index)\n",
    "- le \"taux de codage\" est de 30% (remplacement des données dupliquées par un entier)\n",
    "- le gain de taille de fichier par rapport à un fichier \"quoté\" est de 61%\n",
    "- l'analyse de la structure montre que les données sont principalement du type \"linked\" (non ou peu structuré)\n",
    "- quelques colonnes sont de type \"derived\". Par exemple les index longitude(43) et latitude(44) sont bien dérivés de l'index coordonneesXY(13)\n",
    "- le taux de couplage (\"linkrate\") pour chacun des index est très proche de 0, ce qui signifie que les données devraient être de type \"derived\" (lien de dépendance par exemple comme entre les trimestres et les mois)"
   ]
  },
  {
   "cell_type": "code",
   "execution_count": 35,
   "metadata": {},
   "outputs": [
    {
     "name": "stdout",
     "output_type": "stream",
     "text": [
      "defaultsize 3725037 2.2882091999053955\n",
      "indicator default :  {'unique values': 64824, 'unicity level': 0.116, 'mean size': 5.287, 'object lightness': 0.307, 'gain': 0.613}\n",
      "[{'lencodec': 481, 'name': '\\ufeffnom_amenageur', 'num': 0, 'parent': 9, 'typecoupl': 'linked'},\n",
      " {'lencodec': 670, 'name': 'siren_amenageur', 'num': 1, 'parent': 9, 'typecoupl': 'linked'},\n",
      " {'lencodec': 388, 'name': 'contact_amenageur', 'num': 2, 'parent': 9, 'typecoupl': 'linked'},\n",
      " {'lencodec': 152, 'name': 'nom_operateur', 'num': 3, 'parent': 39, 'typecoupl': 'linked'},\n",
      " {'lencodec': 159, 'name': 'contact_operateur', 'num': 4, 'parent': 39, 'typecoupl': 'linked'},\n",
      " {'lencodec': 215, 'name': 'telephone_operateur', 'num': 5, 'parent': 13, 'typecoupl': 'linked'},\n",
      " {'lencodec': 764, 'name': 'nom_enseigne', 'num': 6, 'parent': 9, 'typecoupl': 'linked'},\n",
      " {'lencodec': 7060, 'name': 'id_station_itinerance', 'num': 7, 'parent': 15, 'typecoupl': 'linked'},\n",
      " {'lencodec': 3838, 'name': 'id_station_local', 'num': 8, 'parent': 16, 'typecoupl': 'linked'},\n",
      " {'lencodec': 4503, 'name': 'nom_station', 'num': 9, 'parent': 15, 'typecoupl': 'linked'},\n",
      " {'lencodec': 5, 'name': 'implantation_station', 'num': 10, 'parent': 8, 'typecoupl': 'linked'},\n",
      " {'lencodec': 4392, 'name': 'adresse_station', 'num': 11, 'parent': 13, 'typecoupl': 'linked'},\n",
      " {'lencodec': 2593, 'name': 'code_insee_commune', 'num': 12, 'parent': 9, 'typecoupl': 'linked'},\n",
      " {'lencodec': 4459, 'name': 'coordonneesXY', 'num': 13, 'parent': 9, 'typecoupl': 'linked'},\n",
      " {'lencodec': 32, 'name': 'nbre_pdc', 'num': 14, 'parent': 7, 'typecoupl': 'linked'},\n",
      " {'lencodec': 10322, 'name': 'id_pdc_itinerance', 'num': 15, 'parent': 15, 'typecoupl': 'crossed'},\n",
      " {'lencodec': 7095, 'name': 'id_pdc_local', 'num': 16, 'parent': 15, 'typecoupl': 'linked'},\n",
      " {'lencodec': 61, 'name': 'puissance_nominale', 'num': 17, 'parent': 37, 'typecoupl': 'linked'},\n",
      " {'lencodec': 9, 'name': 'prise_type_ef', 'num': 18, 'parent': 16, 'typecoupl': 'linked'},\n",
      " {'lencodec': 8, 'name': 'prise_type_2', 'num': 19, 'parent': 23, 'typecoupl': 'linked'},\n",
      " {'lencodec': 8, 'name': 'prise_type_combo_ccs', 'num': 20, 'parent': 19, 'typecoupl': 'linked'},\n",
      " {'lencodec': 7, 'name': 'prise_type_chademo', 'num': 21, 'parent': 22, 'typecoupl': 'linked'},\n",
      " {'lencodec': 8, 'name': 'prise_type_autre', 'num': 22, 'parent': 20, 'typecoupl': 'linked'},\n",
      " {'lencodec': 9, 'name': 'gratuit', 'num': 23, 'parent': 15, 'typecoupl': 'linked'},\n",
      " {'lencodec': 9, 'name': 'paiement_acte', 'num': 24, 'parent': 13, 'typecoupl': 'linked'},\n",
      " {'lencodec': 8, 'name': 'paiement_cb', 'num': 25, 'parent': 23, 'typecoupl': 'linked'},\n",
      " {'lencodec': 9, 'name': 'paiement_autre', 'num': 26, 'parent': 39, 'typecoupl': 'linked'},\n",
      " {'lencodec': 128, 'name': 'tarification', 'num': 27, 'parent': 9, 'typecoupl': 'linked'},\n",
      " {'lencodec': 3, 'name': 'condition_acces', 'num': 28, 'parent': 11, 'typecoupl': 'derived'},\n",
      " {'lencodec': 8, 'name': 'reservation', 'num': 29, 'parent': 39, 'typecoupl': 'linked'},\n",
      " {'lencodec': 140, 'name': 'horaires', 'num': 30, 'parent': 11, 'typecoupl': 'linked'},\n",
      " {'lencodec': 5, 'name': 'accessibilite_pmr', 'num': 31, 'parent': 16, 'typecoupl': 'linked'},\n",
      " {'lencodec': 97, 'name': 'restriction_gabarit', 'num': 32, 'parent': 9, 'typecoupl': 'linked'},\n",
      " {'lencodec': 7, 'name': 'station_deux_roues', 'num': 33, 'parent': 13, 'typecoupl': 'derived'},\n",
      " {'lencodec': 3, 'name': 'raccordement', 'num': 34, 'parent': 16, 'typecoupl': 'linked'},\n",
      " {'lencodec': 1371, 'name': 'num_pdl', 'num': 35, 'parent': 13, 'typecoupl': 'linked'},\n",
      " {'lencodec': 1102, 'name': 'date_mise_en_service', 'num': 36, 'parent': 15, 'typecoupl': 'linked'},\n",
      " {'lencodec': 101, 'name': 'observations', 'num': 37, 'parent': 39, 'typecoupl': 'linked'},\n",
      " {'lencodec': 269, 'name': 'date_maj', 'num': 38, 'parent': 39, 'typecoupl': 'linked'},\n",
      " {'lencodec': 385, 'name': 'last_modified', 'num': 39, 'parent': 6, 'typecoupl': 'linked'},\n",
      " {'lencodec': 294, 'name': 'datagouv_dataset_id', 'num': 40, 'parent': 39, 'typecoupl': 'derived'},\n",
      " {'lencodec': 385, 'name': 'datagouv_resource_id', 'num': 41, 'parent': 39, 'typecoupl': 'coupled'},\n",
      " {'lencodec': 122, 'name': 'datagouv_organization_or_owner', 'num': 42, 'parent': 40, 'typecoupl': 'derived'},\n",
      " {'lencodec': 4448, 'name': 'consolidated_longitude', 'num': 43, 'parent': 13, 'typecoupl': 'derived'},\n",
      " {'lencodec': 4429, 'name': 'consolidated_latitude', 'num': 44, 'parent': 13, 'typecoupl': 'derived'},\n",
      " {'lencodec': 1697, 'name': 'consolidated_code_postal', 'num': 45, 'parent': 9, 'typecoupl': 'linked'},\n",
      " {'lencodec': 2511, 'name': 'consolidated_commune', 'num': 46, 'parent': 9, 'typecoupl': 'linked'},\n",
      " {'lencodec': 3, 'name': 'consolidated_is_lon_lat_correct', 'num': 47, 'parent': 28, 'typecoupl': 'linked'},\n",
      " {'lencodec': 3, 'name': 'consolidated_is_code_insee_verified', 'num': 48, 'parent': 45, 'typecoupl': 'linked'}]\n",
      "[{'linkrate': 6.014508845954549e-06},\n",
      " {'linkrate': 3.319494361340903e-06},\n",
      " {'linkrate': 2.8691753588334162e-06},\n",
      " {'linkrate': 0.00015481207534187667},\n",
      " {'linkrate': 0.00011507479861910241},\n",
      " {'linkrate': 4.7158639567565756e-05},\n",
      " {'linkrate': 4.162071652246398e-05},\n",
      " {'linkrate': 5.764242640688488e-07},\n",
      " {'linkrate': 7.126192190832081e-06},\n",
      " {'linkrate': 5.939361188133914e-06},\n",
      " {'linkrate': 0.0003908285565398645},\n",
      " {'linkrate': 2.0940302313612285e-06},\n",
      " {'linkrate': 7.710908776864807e-07},\n",
      " {'linkrate': 2.1918491704897e-06},\n",
      " {'linkrate': 8.224435712327516e-05},\n",
      " {'linkrate': 1.0},\n",
      " {'linkrate': 3.8784955829124845e-06},\n",
      " {'linkrate': 0.013201320132013201},\n",
      " {'linkrate': 0.0004580690627202255},\n",
      " {'linkrate': 0.12698412698412698},\n",
      " {'linkrate': 0.08928571428571429},\n",
      " {'linkrate': 0.0625},\n",
      " {'linkrate': 0.08928571428571429},\n",
      " {'linkrate': 6.0550280953303626e-05},\n",
      " {'linkrate': 0.00011213276519398969},\n",
      " {'linkrate': 0.07936507936507936},\n",
      " {'linkrate': 0.0012987012987012987},\n",
      " {'linkrate': 3.147507960572217e-05},\n",
      " {'linkrate': 0.0},\n",
      " {'linkrate': 0.00037105751391465676},\n",
      " {'linkrate': 3.931281204544561e-05},\n",
      " {'linkrate': 7.047216349541931e-05},\n",
      " {'linkrate': 1.156636316529721e-05},\n",
      " {'linkrate': 0.0},\n",
      " {'linkrate': 7.047216349541931e-05},\n",
      " {'linkrate': 9.658150578752397e-06},\n",
      " {'linkrate': 1.7422642148961477e-05},\n",
      " {'linkrate': 0.0004155844155844156},\n",
      " {'linkrate': 0.0015603799185888738},\n",
      " {'linkrate': 0.0003544938917975567},\n",
      " {'linkrate': 0.0},\n",
      " {'linkrate': 0.0},\n",
      " {'linkrate': 0.0},\n",
      " {'linkrate': 0.0},\n",
      " {'linkrate': 0.0},\n",
      " {'linkrate': 7.856397621711312e-07},\n",
      " {'linkrate': 6.193303623171095e-07},\n",
      " {'linkrate': 0.3333333333333333},\n",
      " {'linkrate': 0.0002946375957572186}]\n"
     ]
    }
   ],
   "source": [
    "t0=time()\n",
    "defaultsize = len(idxs.to_obj(encoded=True, defaultcodec=True))\n",
    "print('defaultsize', defaultsize, time()-t0)\n",
    "print('indicator default : ', idxs.indicator(fullsize, defaultsize))\n",
    "pprint(idxs.indexinfos(keys=['num', 'name', 'lencodec', 'parent', 'typecoupl'], base=True), width=120)\n",
    "pprint(idxs.indexinfos(keys=['linkrate']))"
   ]
  },
  {
   "cell_type": "markdown",
   "metadata": {},
   "source": [
    "----\n",
    "## couplage\n",
    "- transformation des index qui devraient être couplés en index couplés (tous les index sont bien maintenant de type \"derived\")\n"
   ]
  },
  {
   "cell_type": "code",
   "execution_count": 36,
   "metadata": {},
   "outputs": [
    {
     "name": "stdout",
     "output_type": "stream",
     "text": [
      "coupling 55.95050048828125\n",
      "[{'name': '\\ufeffnom_amenageur', 'num': 0, 'parent': 9, 'typecoupl': 'derived'},\n",
      " {'name': 'siren_amenageur', 'num': 1, 'parent': 9, 'typecoupl': 'derived'},\n",
      " {'name': 'contact_amenageur', 'num': 2, 'parent': 9, 'typecoupl': 'derived'},\n",
      " {'name': 'nom_operateur', 'num': 3, 'parent': 39, 'typecoupl': 'derived'},\n",
      " {'name': 'contact_operateur', 'num': 4, 'parent': 39, 'typecoupl': 'derived'},\n",
      " {'name': 'telephone_operateur', 'num': 5, 'parent': 13, 'typecoupl': 'derived'},\n",
      " {'name': 'nom_enseigne', 'num': 6, 'parent': 15, 'typecoupl': 'derived'},\n",
      " {'name': 'id_station_itinerance', 'num': 7, 'parent': 15, 'typecoupl': 'derived'},\n",
      " {'name': 'id_station_local', 'num': 8, 'parent': 15, 'typecoupl': 'derived'},\n",
      " {'name': 'nom_station', 'num': 9, 'parent': 15, 'typecoupl': 'derived'},\n",
      " {'name': 'implantation_station', 'num': 10, 'parent': 8, 'typecoupl': 'derived'},\n",
      " {'name': 'adresse_station', 'num': 11, 'parent': 9, 'typecoupl': 'derived'},\n",
      " {'name': 'code_insee_commune', 'num': 12, 'parent': 9, 'typecoupl': 'derived'},\n",
      " {'name': 'coordonneesXY', 'num': 13, 'parent': 9, 'typecoupl': 'derived'},\n",
      " {'name': 'nbre_pdc', 'num': 14, 'parent': 7, 'typecoupl': 'derived'},\n",
      " {'name': 'id_pdc_itinerance', 'num': 15, 'parent': 15, 'typecoupl': 'crossed'},\n",
      " {'name': 'id_pdc_local', 'num': 16, 'parent': 15, 'typecoupl': 'derived'},\n",
      " {'name': 'puissance_nominale', 'num': 17, 'parent': 37, 'typecoupl': 'derived'},\n",
      " {'name': 'prise_type_ef', 'num': 18, 'parent': 16, 'typecoupl': 'derived'},\n",
      " {'name': 'prise_type_2', 'num': 19, 'parent': 20, 'typecoupl': 'derived'},\n",
      " {'name': 'prise_type_combo_ccs', 'num': 20, 'parent': 30, 'typecoupl': 'derived'},\n",
      " {'name': 'prise_type_chademo', 'num': 21, 'parent': 22, 'typecoupl': 'derived'},\n",
      " {'name': 'prise_type_autre', 'num': 22, 'parent': 20, 'typecoupl': 'derived'},\n",
      " {'name': 'gratuit', 'num': 23, 'parent': 15, 'typecoupl': 'derived'},\n",
      " {'name': 'paiement_acte', 'num': 24, 'parent': 13, 'typecoupl': 'derived'},\n",
      " {'name': 'paiement_cb', 'num': 25, 'parent': 23, 'typecoupl': 'derived'},\n",
      " {'name': 'paiement_autre', 'num': 26, 'parent': 39, 'typecoupl': 'derived'},\n",
      " {'name': 'tarification', 'num': 27, 'parent': 9, 'typecoupl': 'derived'},\n",
      " {'name': 'condition_acces', 'num': 28, 'parent': 11, 'typecoupl': 'derived'},\n",
      " {'name': 'reservation', 'num': 29, 'parent': 39, 'typecoupl': 'derived'},\n",
      " {'name': 'horaires', 'num': 30, 'parent': 15, 'typecoupl': 'derived'},\n",
      " {'name': 'accessibilite_pmr', 'num': 31, 'parent': 16, 'typecoupl': 'derived'},\n",
      " {'name': 'restriction_gabarit', 'num': 32, 'parent': 9, 'typecoupl': 'derived'},\n",
      " {'name': 'station_deux_roues', 'num': 33, 'parent': 11, 'typecoupl': 'derived'},\n",
      " {'name': 'raccordement', 'num': 34, 'parent': 9, 'typecoupl': 'derived'},\n",
      " {'name': 'num_pdl', 'num': 35, 'parent': 13, 'typecoupl': 'derived'},\n",
      " {'name': 'date_mise_en_service', 'num': 36, 'parent': 15, 'typecoupl': 'derived'},\n",
      " {'name': 'observations', 'num': 37, 'parent': 39, 'typecoupl': 'derived'},\n",
      " {'name': 'date_maj', 'num': 38, 'parent': 39, 'typecoupl': 'derived'},\n",
      " {'name': 'last_modified', 'num': 39, 'parent': 6, 'typecoupl': 'derived'},\n",
      " {'name': 'datagouv_dataset_id', 'num': 40, 'parent': 41, 'typecoupl': 'derived'},\n",
      " {'name': 'datagouv_resource_id', 'num': 41, 'parent': 39, 'typecoupl': 'derived'},\n",
      " {'name': 'datagouv_organization_or_owner', 'num': 42, 'parent': 40, 'typecoupl': 'derived'},\n",
      " {'name': 'consolidated_longitude', 'num': 43, 'parent': 13, 'typecoupl': 'derived'},\n",
      " {'name': 'consolidated_latitude', 'num': 44, 'parent': 13, 'typecoupl': 'derived'},\n",
      " {'name': 'consolidated_code_postal', 'num': 45, 'parent': 9, 'typecoupl': 'derived'},\n",
      " {'name': 'consolidated_commune', 'num': 46, 'parent': 9, 'typecoupl': 'derived'},\n",
      " {'name': 'consolidated_is_lon_lat_correct', 'num': 47, 'parent': 9, 'typecoupl': 'derived'},\n",
      " {'name': 'consolidated_is_code_insee_verified', 'num': 48, 'parent': 45, 'typecoupl': 'derived'}]\n",
      "[{'name': '\\ufeffnom_amenageur', 'num': 0, 'parent': 9, 'typecoupl': 'derived'},\n",
      " {'name': 'siren_amenageur', 'num': 1, 'parent': 9, 'typecoupl': 'derived'},\n",
      " {'name': 'contact_amenageur', 'num': 2, 'parent': 9, 'typecoupl': 'derived'},\n",
      " {'name': 'nom_operateur', 'num': 3, 'parent': 39, 'typecoupl': 'derived'},\n",
      " {'name': 'contact_operateur', 'num': 4, 'parent': 39, 'typecoupl': 'derived'},\n",
      " {'name': 'telephone_operateur', 'num': 5, 'parent': 13, 'typecoupl': 'derived'},\n",
      " {'name': 'nom_enseigne', 'num': 6, 'parent': 15, 'typecoupl': 'derived'},\n",
      " {'name': 'id_station_itinerance', 'num': 7, 'parent': 15, 'typecoupl': 'derived'},\n",
      " {'name': 'id_station_local', 'num': 8, 'parent': 15, 'typecoupl': 'derived'},\n",
      " {'name': 'nom_station', 'num': 9, 'parent': 15, 'typecoupl': 'derived'},\n",
      " {'name': 'implantation_station', 'num': 10, 'parent': 8, 'typecoupl': 'derived'},\n",
      " {'name': 'adresse_station', 'num': 11, 'parent': 9, 'typecoupl': 'derived'},\n",
      " {'name': 'code_insee_commune', 'num': 12, 'parent': 9, 'typecoupl': 'derived'},\n",
      " {'name': 'coordonneesXY', 'num': 13, 'parent': 9, 'typecoupl': 'derived'},\n",
      " {'name': 'nbre_pdc', 'num': 14, 'parent': 7, 'typecoupl': 'derived'},\n",
      " {'name': 'id_pdc_itinerance', 'num': 15, 'parent': 15, 'typecoupl': 'crossed'},\n",
      " {'name': 'id_pdc_local', 'num': 16, 'parent': 15, 'typecoupl': 'derived'},\n",
      " {'name': 'puissance_nominale', 'num': 17, 'parent': 37, 'typecoupl': 'derived'},\n",
      " {'name': 'prise_type_ef', 'num': 18, 'parent': 16, 'typecoupl': 'derived'},\n",
      " {'name': 'prise_type_2', 'num': 19, 'parent': 20, 'typecoupl': 'derived'},\n",
      " {'name': 'prise_type_combo_ccs', 'num': 20, 'parent': 30, 'typecoupl': 'derived'},\n",
      " {'name': 'prise_type_chademo', 'num': 21, 'parent': 22, 'typecoupl': 'derived'},\n",
      " {'name': 'prise_type_autre', 'num': 22, 'parent': 20, 'typecoupl': 'derived'},\n",
      " {'name': 'gratuit', 'num': 23, 'parent': 15, 'typecoupl': 'derived'},\n",
      " {'name': 'paiement_acte', 'num': 24, 'parent': 13, 'typecoupl': 'derived'},\n",
      " {'name': 'paiement_cb', 'num': 25, 'parent': 23, 'typecoupl': 'derived'},\n",
      " {'name': 'paiement_autre', 'num': 26, 'parent': 39, 'typecoupl': 'derived'},\n",
      " {'name': 'tarification', 'num': 27, 'parent': 9, 'typecoupl': 'derived'},\n",
      " {'name': 'condition_acces', 'num': 28, 'parent': 11, 'typecoupl': 'derived'},\n",
      " {'name': 'reservation', 'num': 29, 'parent': 39, 'typecoupl': 'derived'},\n",
      " {'name': 'horaires', 'num': 30, 'parent': 15, 'typecoupl': 'derived'},\n",
      " {'name': 'accessibilite_pmr', 'num': 31, 'parent': 16, 'typecoupl': 'derived'},\n",
      " {'name': 'restriction_gabarit', 'num': 32, 'parent': 9, 'typecoupl': 'derived'},\n",
      " {'name': 'station_deux_roues', 'num': 33, 'parent': 11, 'typecoupl': 'derived'},\n",
      " {'name': 'raccordement', 'num': 34, 'parent': 9, 'typecoupl': 'derived'},\n",
      " {'name': 'num_pdl', 'num': 35, 'parent': 13, 'typecoupl': 'derived'},\n",
      " {'name': 'date_mise_en_service', 'num': 36, 'parent': 15, 'typecoupl': 'derived'},\n",
      " {'name': 'observations', 'num': 37, 'parent': 39, 'typecoupl': 'derived'},\n",
      " {'name': 'date_maj', 'num': 38, 'parent': 39, 'typecoupl': 'derived'},\n",
      " {'name': 'last_modified', 'num': 39, 'parent': 6, 'typecoupl': 'derived'},\n",
      " {'name': 'datagouv_dataset_id', 'num': 40, 'parent': 41, 'typecoupl': 'derived'},\n",
      " {'name': 'datagouv_resource_id', 'num': 41, 'parent': 39, 'typecoupl': 'derived'},\n",
      " {'name': 'datagouv_organization_or_owner', 'num': 42, 'parent': 40, 'typecoupl': 'derived'},\n",
      " {'name': 'consolidated_longitude', 'num': 43, 'parent': 13, 'typecoupl': 'derived'},\n",
      " {'name': 'consolidated_latitude', 'num': 44, 'parent': 13, 'typecoupl': 'derived'},\n",
      " {'name': 'consolidated_code_postal', 'num': 45, 'parent': 9, 'typecoupl': 'derived'},\n",
      " {'name': 'consolidated_commune', 'num': 46, 'parent': 9, 'typecoupl': 'derived'},\n",
      " {'name': 'consolidated_is_lon_lat_correct', 'num': 47, 'parent': 9, 'typecoupl': 'derived'},\n",
      " {'name': 'consolidated_is_code_insee_verified', 'num': 48, 'parent': 45, 'typecoupl': 'derived'}]\n"
     ]
    }
   ],
   "source": [
    "t0=time()\n",
    "infos = idxs.coupling(fast=True)\n",
    "print('coupling', time()-t0)\n",
    "pprint(idxs.indexinfos(keys=['num', 'name', 'parent', 'typecoupl']), width=120)\n",
    "pprint(idxs.indexinfos(keys=['num', 'name', 'parent', 'typecoupl']), width=120)"
   ]
  },
  {
   "cell_type": "markdown",
   "metadata": {},
   "source": [
    "----\n",
    "## Format optimisé\n",
    "- le \"taux d'unicité\" se dégrade légèrement (passage de 11,6% à 12,1%) par l'ajout d'index supplémentaires\n",
    "- le \"taux de codage\" par contre passe de 30% à 16% de par l'optimisation \n",
    "- le gain de taille de fichier par rapport à un fichier \"quoté\" est maintenant de 74%\n",
    "- l'utilisation d'un format binaire (codage CBOR pour Concise Binary Object Representation RFC 8949) permet d'améliorer encore le gain de taille de fichier (82%)"
   ]
  },
  {
   "cell_type": "code",
   "execution_count": 37,
   "metadata": {},
   "outputs": [
    {
     "name": "stdout",
     "output_type": "stream",
     "text": [
      "optimizesize  2495885 10.116098403930664\n",
      "indicator optimize :  {'unique values': 67357, 'unicity level': 0.121, 'mean size': 2.721, 'object lightness': 0.158, 'gain': 0.74}\n",
      "cborsize 1717876 10.97364854812622\n",
      "indicator cbor :  {'unique values': 67357, 'unicity level': 0.121, 'mean size': 1.136, 'object lightness': 0.066, 'gain': 0.821}\n"
     ]
    }
   ],
   "source": [
    "t0=time()\n",
    "optimizesize = len(idxs.to_obj(indexinfos=infos, encoded=True))\n",
    "print('optimizesize ', optimizesize, time()-t0)\n",
    "print('indicator optimize : ', idxs.indicator(fullsize, optimizesize))\n",
    "t0=time()\n",
    "js = idxs.to_obj(indexinfos=infos, encoded=True, encode_format='cbor')\n",
    "cborsize = len(js)\n",
    "print('cborsize', cborsize, time()-t0)\n",
    "print('indicator cbor : ', idxs.indicator(fullsize, cborsize))"
   ]
  },
  {
   "cell_type": "markdown",
   "metadata": {},
   "source": [
    "----\n",
    "## Intégrité\n",
    "- la transformation inverse des données binaires permet de vérifier qu'on retombe bien sur les mêmes données (pas de dégradation)"
   ]
  },
  {
   "cell_type": "code",
   "execution_count": 38,
   "metadata": {
    "scrolled": false
   },
   "outputs": [
    {
     "name": "stdout",
     "output_type": "stream",
     "text": [
      "fromcbor 11163 3.348214864730835\n",
      "controle égalité : True 0.24997305870056152\n"
     ]
    }
   ],
   "source": [
    "t0=time()\n",
    "idxs2 = Iindexset.from_obj(js)\n",
    "print('fromcbor', len(idxs2), time()-t0)\n",
    "t0=time()\n",
    "verif = idxs2 == idxs\n",
    "print('controle égalité :', verif, time()-t0)\n"
   ]
  },
  {
   "cell_type": "markdown",
   "metadata": {},
   "source": [
    "----\n",
    "## Exemple de données anormales\n",
    "- l'index coordonneesXY(13) est lié à l'index nom_station(9) avec un taux de couplage très faible, par ailleurs, le nombre de valeurs de ces deux index sont très proches (4503 nom_station pour 4459 coordonneesXY), ce qui signifie que dans la majorité des cas, on associe de façon unique une station et une position\n",
    "- les exemples ci-dessous montrent les écarts les plus important :\n",
    "    - la position [1.106329, 49.474202] est associée à 10 stations\n",
    "    - la station Camping Arinella est associée à 5 positions"
   ]
  },
  {
   "cell_type": "code",
   "execution_count": 41,
   "metadata": {},
   "outputs": [
    {
     "name": "stdout",
     "output_type": "stream",
     "text": [
      "Couplage entre  coordonneesXY  et  nom_station  :  derived\n",
      "Ecart :  44 positions sur  4503 \n",
      "\n",
      "les 5 positions avec le plus de stations:  [('[1.106329, 49.474202]', 10), ('[1.313367, 49.137233]', 6), ('[3.080477, 50.675889]', 6), ('[2.523685, 48.9908]', 5), ('[3.1557445, 50.5161745]', 4)] \n",
      "\n",
      "liste des stations associées à la position [1.106329, 49.474202]  :  ['SCH01', 'SCH10', 'SCH09', 'SCH07', 'SCH06', 'SCH05', 'SCH04', 'SCH03', 'SCH02', 'SCH08'] \n",
      "\n",
      "les 5 stations avec le plus de positions:  [('Camping Arinella', 5), ('GUERET', 4), ('Noues de Sienne, Le Bourg', 3), ('PONTORSON - aire de covoiturage', 2), ('Beaumont Saint-Cyr', 2)] \n",
      "\n",
      "liste des positions associées à la station Camping Arinella  :  ['[9.445075, 41.995246]', '[9.445074, 41.995246]', '[9.445073, 41.995246]', '[9.445072, 41.995246]', '[9.445071, 41.995246]']\n"
     ]
    }
   ],
   "source": [
    "print('Couplage entre ', idxs[13].name, ' et ', idxs[9].name, ' : ', idxs[13].couplinginfos(idxs[9])['typecoupl'])\n",
    "infosdefault = idxs[9].couplinginfos(idxs[13], default=True)\n",
    "print('Ecart : ', infosdefault['disttomin'], 'positions sur ', infosdefault['distmin'], '\\n') # moins de 1%\n",
    "nom_station = idxs[9].tostdcodec(full=False)\n",
    "coordonneesXY = idxs[13].tostdcodec(full=False) \n",
    "coordonneesXY.coupling(nom_station)\n",
    "c = Counter(coordonneesXY.codec).most_common(5)\n",
    "print('les 5 positions avec le plus de stations: ', c, '\\n')\n",
    "print('liste des stations associées à la position', c[0][0], ' : ', \n",
    "      [nom_station[i] for i in coordonneesXY.recordfromvalue(c[0][0])], '\\n')\n",
    "coordonneesXY = idxs[13].tostdcodec(full=False)\n",
    "nom_station.coupling(coordonneesXY)\n",
    "c = Counter(nom_station.codec).most_common(5)\n",
    "print('les 5 stations avec le plus de positions: ', c, '\\n')\n",
    "print('liste des positions associées à la station', c[0][0], ' : ', \n",
    "      [coordonneesXY[i] for i in nom_station.recordfromvalue(c[0][0])])"
   ]
  }
 ],
 "metadata": {
  "celltoolbar": "Format de la Cellule Texte Brut",
  "kernelspec": {
   "display_name": "Python 3 (ipykernel)",
   "language": "python",
   "name": "python3"
  },
  "language_info": {
   "codemirror_mode": {
    "name": "ipython",
    "version": 3
   },
   "file_extension": ".py",
   "mimetype": "text/x-python",
   "name": "python",
   "nbconvert_exporter": "python",
   "pygments_lexer": "ipython3",
   "version": "3.9.12"
  }
 },
 "nbformat": 4,
 "nbformat_minor": 4
}
