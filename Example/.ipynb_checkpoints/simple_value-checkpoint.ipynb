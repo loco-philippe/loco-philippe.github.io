{
 "cells": [
  {
   "cell_type": "markdown",
   "metadata": {},
   "source": [
    "# Iindex : Values included in Iindex\n",
    "\n",
    "## Goals\n",
    "\n",
    "- show the diversity of values objects\n",
    "- present the representations of values\n",
    "\n",
    "-----"
   ]
  },
  {
   "cell_type": "code",
   "execution_count": 34,
   "metadata": {},
   "outputs": [],
   "source": [
    "import os\n",
    "os.chdir('C:/Users/a179227/OneDrive - Alliance/perso Wx/ES standard/python ESstandard/ES')\n",
    "from ESValue import LocationValue, DatationValue, PropertyValue, NamedValue, ExternValue, ESValue\n",
    "from iindex import Iindex\n",
    "from datetime import datetime\n",
    "dpt75 = [[[2.4163, 48.8492], [2.4622, 48.8425], [2.4626, 48.8190], [2.4384, 48.8182], [2.4006, 48.8290], [2.3639, 48.8163],\n",
    "          [2.3318, 48.8170], [2.2790, 48.8324], [2.2242, 48.8535], [2.2317, 48.8690], [2.2584, 48.8803], [2.2774, 48.8779],\n",
    "          [2.3198, 48.9004], [2.3851, 48.9020], [2.4139, 48.8708], [2.4163, 48.8492]]]"
   ]
  },
  {
   "cell_type": "markdown",
   "metadata": {},
   "source": [
    "## Usual data\n",
    "\n",
    "Every kind of data can be included in Iindex objects.\n",
    "\n",
    "Each value included has several representations.\n",
    "\n",
    "Index representations respect the Json format.\n",
    "\n",
    "The example below is an Iindex build with usual data."
   ]
  },
  {
   "cell_type": "code",
   "execution_count": 54,
   "metadata": {},
   "outputs": [
    {
     "name": "stdout",
     "output_type": "stream",
     "text": [
      "default :  \n",
      " [21, \"{'test': 21}\", \"{21: 211}\", \"{'ko': 2, 'kobis': 2}\", [1.2, 3.4], \"2021-01-21T00:00:00\", \"name\"]\n",
      "\n",
      "obj simple :  \n",
      " [21, \"{'test': 21}\", '{21: 211}', \"{'ko': 2, 'kobis': 2}\", [1.2, 3.4], datetime.datetime(2021, 1, 21, 0, 0), 'name'] \n",
      "\n",
      "complete json obj :  \n",
      " [21, \"{'test': 21}\", '{21: 211}', \"{'ko': 2, 'kobis': 2}\", [1.2, 3.4], datetime.datetime(2021, 1, 21, 0, 0), 'name'] \n",
      "\n",
      "complete json text :  \n",
      " [21, \"{'test': 21}\", \"{21: 211}\", \"{'ko': 2, 'kobis': 2}\", [1.2, 3.4], \"2021-01-21T00:00:00\", \"name\"]\n"
     ]
    }
   ],
   "source": [
    "# simple data\n",
    "simple = Iindex([21, {'test':21}, {21:211}, {'ko':2, 'kobis':2}, [1.2, 3.4], '2021-01-21', 'name'])\n",
    "print('default : ', '\\n', simple)\n",
    "print('obj simple : ', '\\n', simple.to_obj(), '\\n')\n",
    "print('complete json obj : ', '\\n', simple.json(), '\\n')\n",
    "print('complete json text : ', '\\n', simple.json(encoded=True))"
   ]
  },
  {
   "cell_type": "markdown",
   "metadata": {},
   "source": [
    "## Json compatibility\n",
    "\n",
    "Iindex objects are completely defined by their Json representation (i.e. the object reconstructed from its json representation is identical to the initial object)."
   ]
  },
  {
   "cell_type": "code",
   "execution_count": 36,
   "metadata": {},
   "outputs": [
    {
     "name": "stdout",
     "output_type": "stream",
     "text": [
      "True\n"
     ]
    }
   ],
   "source": [
    "# obj et json format\n",
    "simple2 = Iindex.Iobj(simple.json())\n",
    "simple3 = Iindex.Iobj(simple.to_obj())\n",
    "print(simple3==simple2==simple)"
   ]
  },
  {
   "cell_type": "markdown",
   "metadata": {},
   "source": [
    "------\n",
    "## Dedicated formats \n",
    "Formats adapted to environmental data (ESValue) are also supported:\n",
    "- LocationValue : spatial data\n",
    "- DatationValue : temporal data\n",
    "- PropertyValue : property data\n",
    "- NamedValue : Annotated data\n",
    "\n",
    "All ESValue objects are build with a name (string) and a value (specific for each object)"
   ]
  },
  {
   "cell_type": "code",
   "execution_count": 55,
   "metadata": {},
   "outputs": [
    {
     "name": "stdout",
     "output_type": "stream",
     "text": [
      "default :  \n",
      " [21, {\"test\": 21}, [1.2, 3.4], \"2021-11-21T00:00:00+00:00\"]\n",
      "\n",
      "obj simple :  \n",
      " [21, {'test': 21}, [1.2, 3.4], datetime.datetime(2021, 11, 21, 0, 0, tzinfo=datetime.timezone.utc)] \n",
      "\n",
      "complete json obj :  \n",
      " [{'namvalue': 21}, {'namvalue': {'test': 21}}, {'locvalue': [1.2, 3.4]}, {'datvalue': datetime.datetime(2021, 11, 21, 0, 0, tzinfo=datetime.timezone.utc)}] \n",
      "\n",
      "only values :  \n",
      " [21, 21, [1.2, 3.4], datetime.datetime(2021, 11, 21, 0, 0, tzinfo=datetime.timezone.utc)]\n"
     ]
    }
   ],
   "source": [
    "# ES Value\n",
    "es = Iindex([21, {'test':21}, {'locvalue':[1.2, 3.4]}, {'datvalue':'2021-11-21'}], typevalue='NamedValue')\n",
    "print('default : ', '\\n', es)\n",
    "print('obj simple : ', '\\n', es.to_obj(), '\\n')\n",
    "print('complete json obj : ', '\\n', es.json(), '\\n')\n",
    "print('only values : ', '\\n', es.val)"
   ]
  },
  {
   "cell_type": "markdown",
   "metadata": {},
   "source": [
    "## LocationValue\n",
    "A location can be defined by a label (string), a position (geojson position coordinates), a geographical area (geojson polygon coordinates).\n",
    "\n",
    "The vSimple method returns a single value from a LocationValue object (centroid for polygons)"
   ]
  },
  {
   "cell_type": "code",
   "execution_count": 53,
   "metadata": {
    "scrolled": true
   },
   "outputs": [
    {
     "name": "stdout",
     "output_type": "stream",
     "text": [
      "default :  \n",
      " [\"marseille\", [2.35, 48.87], {\"lyon\": [4.83, 45.76]}, {\"dpt75\": [[[2.4163, 48.8492], [2.4622, 48.8425], [2.4626, 48.819], [2.4384, 48.8182], [2.4006, 48.829], [2.3639, 48.8163], [2.3318, 48.817], [2.279, 48.8324], [2.2242, 48.8535], [2.2317, 48.869], [2.2584, 48.8803], [2.2774, 48.8779], [2.3198, 48.9004], [2.3851, 48.902], [2.4139, 48.8708], [2.4163, 48.8492]]]}, {\"marseille\": [5.38, 43.3]}]\n",
      "\n",
      "obj simple :  \n",
      " ['marseille', [2.35, 48.87], {'lyon': [4.83, 45.76]}, {'dpt75': [[[2.4163, 48.8492], [2.4622, 48.8425], [2.4626, 48.819], [2.4384, 48.8182], [2.4006, 48.829], [2.3639, 48.8163], [2.3318, 48.817], [2.279, 48.8324], [2.2242, 48.8535], [2.2317, 48.869], [2.2584, 48.8803], [2.2774, 48.8779], [2.3198, 48.9004], [2.3851, 48.902], [2.4139, 48.8708], [2.4163, 48.8492]]]}, {'marseille': [5.38, 43.3]}] \n",
      "\n",
      "only simple values :  \n",
      " [[-1.0, -1.0], [2.35, 48.87], [4.83, 45.76], [2.3438633712300243, 48.856278409899986], [5.38, 43.3]]\n"
     ]
    }
   ],
   "source": [
    "paris       = [2.35, 48.87]\n",
    "lyon        = [4.83, 45.76]\n",
    "marseille   = [5.38, 43.3]\n",
    "\n",
    "loc = Iindex(['marseille', paris, {'lyon': lyon}, {'dpt75': dpt75}, {'locvalue': {'marseille': marseille}}], \n",
    "            typevalue='LocationValue')\n",
    "\n",
    "print('default : ', '\\n', loc)\n",
    "print('obj simple : ', '\\n', loc.to_obj(), '\\n')\n",
    "print('only simple values : ', '\\n', loc.vSimple())"
   ]
  },
  {
   "cell_type": "markdown",
   "metadata": {},
   "source": [
    "## DatationValue\n",
    "Just like for locations, datations can be defined by a description, an instant, an interval or a set of intervals. \n",
    "\n",
    "The vSimple method returns a single value from a DatationValue object (\"centroid\" of the set of intervals).\n",
    "\n",
    "All ESValue objects have binary representation."
   ]
  },
  {
   "cell_type": "code",
   "execution_count": 58,
   "metadata": {
    "scrolled": false
   },
   "outputs": [
    {
     "name": "stdout",
     "output_type": "stream",
     "text": [
      "default :  \n",
      " [\"morning\", \"2021-11-21T00:00:00+00:00\", {\"monday\": \"2021-10-01T00:00:00+00:00\"}, {\"morning\": [\"2020-02-04T08:00:00+00:00\", \"2020-02-04T12:00:00+00:00\"]}, {\"working\": [[\"2020-02-04T08:00:00+00:00\", \"2020-02-04T12:00:00+00:00\"], [\"2020-02-04T14:00:00+00:00\", \"2020-02-04T18:00:00+00:00\"]]}]\n",
      "\n",
      "complete json text :  \n",
      " [{\"datvalue\": \"morning\"}, {\"datvalue\": \"2021-11-21T00:00:00+00:00\"}, {\"datvalue\": {\"monday\": \"2021-10-01T00:00:00+00:00\"}}, {\"datvalue\": {\"morning\": [\"2020-02-04T08:00:00+00:00\", \"2020-02-04T12:00:00+00:00\"]}}, {\"datvalue\": {\"working\": [[\"2020-02-04T08:00:00+00:00\", \"2020-02-04T12:00:00+00:00\"], [\"2020-02-04T14:00:00+00:00\", \"2020-02-04T18:00:00+00:00\"]]}}] \n",
      "\n",
      "only simple values :  \n",
      " [\"0001-01-01T00:00:00+00:00\", \"2021-11-21T00:00:00+00:00\", \"2021-10-01T00:00:00+00:00\", \"2020-02-04T10:00:00+00:00\", \"2020-02-04T12:00:00+00:00\"] \n",
      "\n",
      "binary format :  \n",
      " b'\\x85gmorning\\xc1\\x1aa\\x99\\x8c\\x00\\xa1fmonday\\xc1\\x1aaVO\\x80\\xa1gmorning\\x82\\xc1\\x1a^9$\\x80\\xc1\\x1a^9\\\\\\xc0\\xa1gworking\\x82\\x82\\xc1\\x1a^9$\\x80\\xc1\\x1a^9\\\\\\xc0\\x82\\xc1\\x1a^9x\\xe0\\xc1\\x1a^9\\xb1 '\n"
     ]
    }
   ],
   "source": [
    "# DatationValue\n",
    "morning = [datetime(2020, 2, 4, 8), datetime(2020, 2, 4, 12)]\n",
    "afternoon  = [ datetime(2020, 2, 4, 14), datetime(2020, 2, 4, 18)]\n",
    "\n",
    "dat = Iindex(['morning', '2021-11-21', {'monday':datetime(2021,10,1)}, {'morning': morning}, {'working':[morning, afternoon]}], \n",
    "            typevalue='DatationValue')\n",
    "\n",
    "print('default : ', '\\n', dat)\n",
    "print('complete json text : ', '\\n', dat.json(encoded=True), '\\n')\n",
    "print('only simple values : ', '\\n', dat.vSimple(), '\\n')\n",
    "print('binary format : ', '\\n', dat.to_obj(encoded=True, encode_format='cbor'))"
   ]
  },
  {
   "cell_type": "markdown",
   "metadata": {},
   "source": [
    "## PropertyValue\n",
    "\n",
    "PropertyValue objects are dictionnary with specific characteristics. One of them ('prp' key) corresponds to an applicable codification. \n",
    "\n",
    "The vSimple method returns the 'prp' key."
   ]
  },
  {
   "cell_type": "code",
   "execution_count": 56,
   "metadata": {
    "scrolled": true
   },
   "outputs": [
    {
     "name": "stdout",
     "output_type": "stream",
     "text": [
      "default :  \n",
      " [\"air pollutants\", {\"prp\": \"PM10\", \"unit\": \"kg/m3\", \"application\": \"air\"}, {\"pm25\": {\"prp\": \"PM2.5\", \"unit\": \"kg/m3\"}}, \"pm1\"]\n",
      "\n",
      "complete json obj :  \n",
      " [{'prpvalue': 'air pollutants'}, {'prpvalue': {'prp': 'PM10', 'unit': 'kg/m3', 'application': 'air'}}, {'prpvalue': {'pm25': {'prp': 'PM2.5', 'unit': 'kg/m3'}}}, {'prpvalue': 'pm1'}] \n",
      "\n",
      "only simple values :  \n",
      " [\"-\", \"PM10\", \"PM2.5\", \"-\"]\n"
     ]
    }
   ],
   "source": [
    "pm10 = {'prp': 'PM10',  'unit': 'kg/m3', 'application': 'air'}\n",
    "pm25 = {'prp': 'PM2.5', 'unit': 'kg/m3'}\n",
    "\n",
    "prp = Iindex(['air pollutants', pm10, {'pm25': pm25}, {'propvalue': 'pm1'}], typevalue='PropertyValue')\n",
    "\n",
    "print('default : ', '\\n', prp)\n",
    "print('complete json obj : ', '\\n', prp.json(), '\\n')\n",
    "print('only simple values : ', '\\n', prp.vSimple())"
   ]
  },
  {
   "cell_type": "markdown",
   "metadata": {},
   "source": [
    "## NamedValue\n",
    "The NamedValue object is a name-value pair"
   ]
  },
  {
   "cell_type": "code",
   "execution_count": 74,
   "metadata": {},
   "outputs": [
    {
     "name": "stdout",
     "output_type": "stream",
     "text": [
      "default :  \n",
      " [21, {\"test\": 21}, {\"list\": [1, 2, 3]}, {\"dictionnary\": \"{\\\"10\\\": 1, \\\"100\\\": 2}\"}, {\"21\": 211}, [1.2, 3.4], \"name\"]\n",
      "\n",
      "complete json obj :  \n",
      " [{'namvalue': 21}, {'namvalue': {'test': 21}}, {'namvalue': {'list': [1, 2, 3]}}, {'namvalue': {'dictionnary': '{\"10\": 1, \"100\": 2}'}}, {'namvalue': {'21': 211}}, {'namvalue': [1.2, 3.4]}, {'namvalue': 'name'}] \n",
      "\n",
      "only values :  \n",
      " [21, 21, [1, 2, 3], '{\"10\": 1, \"100\": 2}', 211, [1.2, 3.4], 'name']\n"
     ]
    }
   ],
   "source": [
    "nam = Iindex([21, {'test': 21}, {'list': [1,2,3]}, {'dictionnary':{10:1, 100:2}}, {21:211}, [1.2, 3.4], 'name'], typevalue='NamedValue')\n",
    "\n",
    "print('default : ', '\\n', nam)\n",
    "print('complete json obj : ', '\\n', nam.json(), '\\n')\n",
    "print('only values : ', '\\n', nam.val)"
   ]
  },
  {
   "cell_type": "code",
   "execution_count": 73,
   "metadata": {},
   "outputs": [
    {
     "name": "stdout",
     "output_type": "stream",
     "text": [
      "True\n",
      "True\n",
      "True\n",
      "True\n"
     ]
    }
   ],
   "source": [
    "# obj et json format\n",
    "print(Iindex.Iobj(dat.json()) == Iindex.Iobj(dat.to_obj(), typevalue='DatationValue') == \n",
    "      Iindex.Iobj(dat.to_obj(encoded=True, encode_format='cbor'), typevalue='DatationValue') == dat )\n",
    "print(Iindex.Iobj(loc.json()) == Iindex.Iobj(loc.to_obj(), typevalue='LocationValue') == \n",
    "      Iindex.Iobj(loc.to_obj(encoded=True, encode_format='cbor'), typevalue='LocationValue') == loc )\n",
    "print(Iindex.Iobj(prp.json()) == Iindex.Iobj(prp.to_obj(), typevalue='PropertyValue') == \n",
    "      Iindex.Iobj(prp.to_obj(encoded=True, encode_format='cbor'), typevalue='PropertyValue') == prp )\n",
    "print(Iindex.Iobj(nam.json()) == Iindex.Iobj(nam.to_obj(), typevalue='NamedValue') == \n",
    "      Iindex.Iobj(nam.to_obj(encoded=True, encode_format='cbor'), typevalue='NamedValue') ==nam )\n"
   ]
  },
  {
   "cell_type": "code",
   "execution_count": 43,
   "metadata": {},
   "outputs": [
    {
     "name": "stdout",
     "output_type": "stream",
     "text": [
      "ok\n"
     ]
    }
   ],
   "source": [
    "'''simple = Iindex([21, {'test':21}, 21, [1.2, 3.4]], typevalue='NamedValue')\n",
    "print(simple)\n",
    "simple.append(52, typevalue='NamedValue')\n",
    "simple.append({'datvalue': datetime(2020,1,1)})\n",
    "simple.setname('simple')\n",
    "print(simple.val)\n",
    "simple[3]=25\n",
    "print(simple)\n",
    "simple.setvalue(3, {'truc': 25})\n",
    "print(simple)\n",
    "simple.append({'truc': 25, 'dict':[1,2]})\n",
    "print(simple)\n",
    "print(simple.val)\n",
    "simple2 = Iindex([21, {'test':21}, simple])\n",
    "print(simple2)'''\n",
    "print('ok')"
   ]
  }
 ],
 "metadata": {
  "kernelspec": {
   "display_name": "Python 3 (ipykernel)",
   "language": "python",
   "name": "python3"
  },
  "language_info": {
   "codemirror_mode": {
    "name": "ipython",
    "version": 3
   },
   "file_extension": ".py",
   "mimetype": "text/x-python",
   "name": "python",
   "nbconvert_exporter": "python",
   "pygments_lexer": "ipython3",
   "version": "3.9.12"
  }
 },
 "nbformat": 4,
 "nbformat_minor": 4
}
