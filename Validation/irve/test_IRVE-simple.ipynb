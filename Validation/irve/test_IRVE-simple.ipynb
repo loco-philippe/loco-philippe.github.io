{
 "cells": [
  {
   "cell_type": "markdown",
   "metadata": {},
   "source": [
    "# Objet : Exemple de spécification de la propriété \"relationship\"\n",
    "\n",
    "## Objectif\n",
    "\n",
    "- montrer sur un exemple réel comment spécifier les liens entre champs\n",
    "- identifier les apports que pourraient avoir un outil d'analyse de ces liens\n",
    "\n",
    "## Présentation de l'exemple\n",
    "Il concerne le fichier IRVE des bornes de recharge (données utilisées : https://static.data.gouv.fr/resources/fichier-consolide-des-bornes-de-recharge-pour-vehicules-electriques/20220629-080611/consolidation-etalab-schema-irve-v-2.0.2-20220628.csv). \n",
    "\n",
    "Le fichier IRVE contient une liste de stations de recharge avec notamment : \n",
    "- pour une station : un Id, un nom, une adresse et des coordonnées\n",
    "- pour chaque station plusieurs points de charge identifiés par un Id_pdc\n",
    "- un opérateur pour chaque station\n",
    "\n",
    "Seules, quelques lignes et colonnes ont été extraits pour l'exemple (tableau ci-dessous pour 4 stations) :\n",
    "\n",
    "|nom_operateur\t|id_station_itinerance\t|nom_station\t|adresse_station\t|coordonneesXY\t|id_pdc_itinerance|\n",
    "|:----|:----|:----|:----|:----|:----|\t\t\t\t\t\n",
    "|SEVDEC\t|FRSEVP1SCH01\t|SCH01\t|151 Rue d'Uelzen 76230 Bois-Guillaume\t|[1.106329, 49.474202]\t|FRSEVE1SCH0101|\n",
    "|SEVDEC\t|FRSEVP1SCH03\t|SCH03\t|151 Rue d'Uelzen 76230 Bois-Guillaume\t|[1.106329, 49.474202]\t|FRSEVE1SCH0301|\n",
    "|SEVDEC\t|FRSEVP1SCH02\t|SCH02\t|151 Rue d'Uelzen 76230 Bois-Guillaume\t|[1.106329, 49.474202]\t|FRSEVE1SCH0201|\t\n",
    "|Sodetrel\t|FRS35PSD35711\t|RENNES - PLACE HONORE COMMEREUC\t|13 Place HonorÃ© Commeurec 35000 Rennes\t|[-1.679739, 48.108482]\t|FRS35ESD357111|\n",
    "|Sodetrel\t|FRS35PSD35712\t|RENNES - PLACE HONORE COMMEREUC\t|13 Place HonorÃ© Commeurec 35000 Rennes\t|[-1.679739, 48.108482]\t|FRS35ESD357112|\t\t\t\t\n",
    "|Virta\t|FRE10E30333\t|Camping Arinella\t|Route de la mer, Brushetto - 20240 Ghisonaccia\t|[9.445075, 41.995246]\t|FRE10E30333|\n",
    "|Virta\t|FRE10E20923\t|Camping Arinella\t|Route de la mer, Brushetto - 20240 Ghisonaccia\t|[9.445073, 41.995246]\t|FRE10E20923|\n",
    "|Virta\t|FRE10P20922\t|Camping Arinella\t|Route de la mer, Brushetto - 20240 Ghisonaccia\t|[9.445072, 41.995246]\t|FRE10P20922|\n",
    "|Virta\t|FRE10P20921\t|Camping Arinella\t|Route de la mer, Brushetto - 20240 Ghisonaccia\t|[9.445071, 41.995246]\t|FRE10P20921|\n",
    "|DEBELEC\t|FRSGAP1M2026\t|M2026\t|2682 Boulevard FranÃ§ois Xavier Fafeur 11000 Carcassonne\t|[2.298185, 43.212574]\t|FRSGAE1M202603|\n",
    "|DEBELEC\t|FRSGAP1M2026\t|M2026\t|2682 Boulevard FranÃ§ois Xavier Fafeur 11000 Carcassonne\t|[2.298185, 43.212574]\t|FRSGAE1M202602|\n",
    "|DEBELEC\t|FRSGAP1M2026\t|M2026\t|2682 Boulevard FranÃ§ois Xavier Fafeur 11000 Carcassonne\t|[2.298185, 43.212574]\t|FRSGAE1M202601|\n",
    "\n",
    "\n",
    "On constate notamment quelques erreurs :\n",
    "- l'id et le nom de la station opérée par SEVDEC est différent pour chaque point de charge,\n",
    "- l'id de la station opérée par Sodetrel est également différent pour chaque point de charge,\n",
    "- pour la station Virta les coordonnées et les id de la station sont également variables en fonction des points de charge\n",
    "\n",
    "\n",
    "## amélioration de la spécification\n",
    "Les erreurs constatées pourraient être évitées en définissant les règles de dépendance entre colonnes conformément au modèle de données associé au tableau.\n",
    "On distingue trois entités :\n",
    "- l'opérateur qui peut opérer plusieurs stations (un seul champ : nom_operateur)\n",
    "- les stations qui contiennent plusieurs points de charges (quatre champs : id_station_itinerance, nom_station, adresse_station, coordonnéesXY),\n",
    "- les points de charge (un seul champ : id_pdc_itinerance)\n",
    "\n",
    "Ce modèle de données se traduit par les spécifications suivantes :\n",
    "- le champ opérateur est dérivé du champ id_station (relation 1-n)\n",
    "- le champ id_station est dérivé du champ id_pdc (relation 1-n)\n",
    "- les champs nom_station, adresse_station, coordonnéesXY sont couplés au champ id_station (relation 1-1)\n",
    "\n",
    "Ceci se traduit en propriétés \"relationship\" sur chacun des champs :\n",
    "```\n",
    "« name »: « nom_operateur »\n",
    "« relationship » : {\n",
    "    « parent » : « id_station_itinerance »,\n",
    "    « link » : « derived » \n",
    "},\n",
    "« name »: « id_station_itinerance »\n",
    "« relationship » : {\n",
    "    « parent » : « id_pdc_itinerance »,\n",
    "    « link » : « derived » \n",
    "},\n",
    "« name »: « nom_station »\n",
    "« relationship » : {\n",
    "    « parent » : « id_station_itinerance »,\n",
    "    « link » : « derived » \n",
    "},\n",
    "« name »: « adresse_station »\n",
    "« relationship » : {\n",
    "    « parent » : « id_station_itinerance »,\n",
    "    « link » : « derived » \n",
    "},\n",
    "« name »: « coordonnéesXY »\n",
    "« relationship » : {\n",
    "    « parent » : « id_station_itinerance »,\n",
    "    « link » : « derived » \n",
    "}\n",
    "```\n"
   ]
  },
  {
   "cell_type": "markdown",
   "metadata": {},
   "source": [
    "------\n",
    "## exemple d'outil de contrôle de la spécification\n",
    "\n",
    "- un fichier csv est rempli avec le tableau ci-dessus\n",
    "- un objet 'Ilist' est initialisé avec ce fichier"
   ]
  },
  {
   "cell_type": "code",
   "execution_count": 1,
   "metadata": {},
   "outputs": [
    {
     "name": "stdout",
     "output_type": "stream",
     "text": [
      "nombre de lignes :  12\n",
      "liste des champs : \n",
      "[{'name': 'nom_operateur', 'num': 0},\n",
      " {'name': 'id_station_itinerance', 'num': 1},\n",
      " {'name': 'nom_station', 'num': 2},\n",
      " {'name': 'adresse_station', 'num': 3},\n",
      " {'name': 'coordonneesXY', 'num': 4},\n",
      " {'name': 'id_pdc_itinerance', 'num': 5}]\n"
     ]
    }
   ],
   "source": [
    "from pprint import pprint\n",
    "import os\n",
    "os.chdir('C:/Users/a179227/OneDrive - Alliance/perso Wx/ES standard/python ESstandard/ES')\n",
    "from ilist import Ilist\n",
    "\n",
    "chemin = 'C:/Users/a179227/OneDrive - Alliance/perso Wx/ES standard/python ESstandard/validation/irve/'\n",
    "file = chemin + 'IRVE_example.csv'\n",
    "\n",
    "irve = Ilist.from_csv(file, header=True, optcsv=None)\n",
    "print('nombre de lignes : ', len(irve))\n",
    "print('liste des champs : ')\n",
    "pprint(irve.indexinfos(keys=['num', 'name'], base=True), width=120)"
   ]
  },
  {
   "cell_type": "markdown",
   "metadata": {},
   "source": [
    "## contrôle initial\n",
    "Dans l'exemple retenu on a un opérateur par station, la relation entre operateur et station doit donc être 'couplé' plutôt que 'dérivé'. On constate qu'une seule relation est correcte (entre id_station et id_pdc)."
   ]
  },
  {
   "cell_type": "code",
   "execution_count": 2,
   "metadata": {},
   "outputs": [
    {
     "name": "stdout",
     "output_type": "stream",
     "text": [
      "operateur est couplé avec id_station :  False\n",
      "id_station est dérivé de id_pdc :  True\n",
      "nom_station est couplé avec id_station :  False\n",
      "adresse_station est couplé avec id_station :  False\n",
      "coordonneesXY est couplé avec id_station :  False\n"
     ]
    }
   ],
   "source": [
    "operateur, id_station, nom_station, adresse, coord, id_pdc = irve.lindex\n",
    "print('operateur est couplé avec id_station : ', id_station.iscoupled(operateur))\n",
    "print('id_station est dérivé de id_pdc : ', id_station.isderived(id_pdc))\n",
    "print('nom_station est couplé avec id_station : ', nom_station.iscoupled(id_station))\n",
    "print('adresse_station est couplé avec id_station : ', adresse.iscoupled(id_station))\n",
    "print('coordonneesXY est couplé avec id_station : ', coord.iscoupled(id_station))\n"
   ]
  },
  {
   "cell_type": "markdown",
   "metadata": {},
   "source": [
    "----\n",
    "## correction des données\n",
    "Les corrections à apporter pour respecter la spécification pourraient être les suivantes :\n",
    "- champ id_station : FRSEVP1SCH (3 premiers), FRS35PSD35711 (2 suivants), FRE10E2092 (4 suivants)\n",
    "- champ nom_station : SCH (3 premiers)\n",
    "- champ coordonneesXY : [9.445071, 41.995246] du 6e au 8e\n",
    "\n",
    "Le tableau corrigé serait donc :\n",
    "\n",
    "|nom_operateur\t|id_station_itinerance\t|nom_station\t|adresse_station\t|coordonneesXY\t|id_pdc_itinerance|\n",
    "|:----|:----|:----|:----|:----|:----|\t\t\t\t\t\n",
    "|SEVDEC\t|FRSEVP1SCH\t|SCH\t|151 Rue d'Uelzen 76230 Bois-Guillaume\t|[1.106329, 49.474202]\t|FRSEVE1SCH0101|\n",
    "|SEVDEC\t|FRSEVP1SCH\t|SCH\t|151 Rue d'Uelzen 76230 Bois-Guillaume\t|[1.106329, 49.474202]\t|FRSEVE1SCH0301|\n",
    "|SEVDEC\t|FRSEVP1SCH\t|SCH\t|151 Rue d'Uelzen 76230 Bois-Guillaume\t|[1.106329, 49.474202]\t|FRSEVE1SCH0201|\t\n",
    "|Sodetrel\t|FRS35PSD35711\t|RENNES - PLACE HONORE COMMEREUC\t|13 Place HonorÃ© Commeurec 35000 Rennes\t|[-1.679739, 48.108482]\t|FRS35ESD357111|\n",
    "|Sodetrel\t|FRS35PSD35711\t|RENNES - PLACE HONORE COMMEREUC\t|13 Place HonorÃ© Commeurec 35000 Rennes\t|[-1.679739, 48.108482]\t|FRS35ESD357112|\t\t\t\t\n",
    "|Virta\t|FRE10E2092\t|Camping Arinella\t|Route de la mer, Brushetto - 20240 Ghisonaccia\t|[9.445071, 41.995246]\t|FRE10E30333|\n",
    "|Virta\t|FRE10E2092\t|Camping Arinella\t|Route de la mer, Brushetto - 20240 Ghisonaccia\t|[9.445071, 41.995246]\t|FRE10E20923|\n",
    "|Virta\t|FRE10P2092\t|Camping Arinella\t|Route de la mer, Brushetto - 20240 Ghisonaccia\t|[9.445071, 41.995246]\t|FRE10P20922|\n",
    "|Virta\t|FRE10P2092\t|Camping Arinella\t|Route de la mer, Brushetto - 20240 Ghisonaccia\t|[9.445071, 41.995246]\t|FRE10P20921|\n",
    "|DEBELEC\t|FRSGAP1M2026\t|M2026\t|2682 Boulevard FranÃ§ois Xavier Fafeur 11000 Carcassonne\t|[2.298185, 43.212574]\t|FRSGAE1M202603|\n",
    "|DEBELEC\t|FRSGAP1M2026\t|M2026\t|2682 Boulevard FranÃ§ois Xavier Fafeur 11000 Carcassonne\t|[2.298185, 43.212574]\t|FRSGAE1M202602|\n",
    "|DEBELEC\t|FRSGAP1M2026\t|M2026\t|2682 Boulevard FranÃ§ois Xavier Fafeur 11000 Carcassonne\t|[2.298185, 43.212574]\t|FRSGAE1M202601|"
   ]
  },
  {
   "cell_type": "code",
   "execution_count": 3,
   "metadata": {},
   "outputs": [
    {
     "data": {
      "text/plain": [
       "Ilist[12, 6]"
      ]
     },
     "execution_count": 3,
     "metadata": {},
     "output_type": "execute_result"
    }
   ],
   "source": [
    "id_station.setvalue(0, 'FRSEVP1SCH')\n",
    "id_station.setvalue(1, 'FRSEVP1SCH')\n",
    "id_station.setvalue(2, 'FRSEVP1SCH')\n",
    "id_station.setvalue(3, 'FRS35PSD35711')\n",
    "id_station.setvalue(4, 'FRS35PSD35711')\n",
    "id_station.setvalue(5, 'FRE10E2092')\n",
    "id_station.setvalue(6, 'FRE10E2092')\n",
    "id_station.setvalue(7, 'FRE10E2092')\n",
    "id_station.setvalue(8, 'FRE10E2092')\n",
    "nom_station.setvalue(0, 'SCH')\n",
    "nom_station.setvalue(1, 'SCH')\n",
    "nom_station.setvalue(2, 'SCH')\n",
    "coord.setvalue(5, [9.445071, 41.995246])\n",
    "coord.setvalue(6, [9.445071, 41.995246])\n",
    "coord.setvalue(7, [9.445071, 41.995246])\n",
    "irve.reindex()"
   ]
  },
  {
   "cell_type": "markdown",
   "metadata": {},
   "source": [
    "## Nouveau contrôle\n",
    "La vérification effectuée avec ces nouvelles données montre que la spécification serait alors respectée :"
   ]
  },
  {
   "cell_type": "code",
   "execution_count": 4,
   "metadata": {
    "scrolled": true
   },
   "outputs": [
    {
     "name": "stdout",
     "output_type": "stream",
     "text": [
      "operateur est couplé avec id_station :  True\n",
      "id_station est dérivé de id_pdc :  True\n",
      "nom_station est couplé avec id_station :  True\n",
      "adresse_station est couplé avec id_station :  True\n",
      "coordonneesXY est couplé avec id_station :  True\n"
     ]
    }
   ],
   "source": [
    "print('operateur est couplé avec id_station : ', id_station.iscoupled(operateur))\n",
    "print('id_station est dérivé de id_pdc : ', id_station.isderived(id_pdc))\n",
    "print('nom_station est couplé avec id_station : ', nom_station.iscoupled(id_station))\n",
    "print('adresse_station est couplé avec id_station : ', adresse.iscoupled(id_station))\n",
    "print('coordonneesXY est couplé avec id_station : ', coord.iscoupled(id_station))"
   ]
  }
 ],
 "metadata": {
  "celltoolbar": "Format de la Cellule Texte Brut",
  "kernelspec": {
   "display_name": "Python 3 (ipykernel)",
   "language": "python",
   "name": "python3"
  },
  "language_info": {
   "codemirror_mode": {
    "name": "ipython",
    "version": 3
   },
   "file_extension": ".py",
   "mimetype": "text/x-python",
   "name": "python",
   "nbconvert_exporter": "python",
   "pygments_lexer": "ipython3",
   "version": "3.9.12"
  }
 },
 "nbformat": 4,
 "nbformat_minor": 4
}
